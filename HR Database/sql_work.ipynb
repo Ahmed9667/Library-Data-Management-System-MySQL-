{
 "cells": [
  {
   "cell_type": "code",
   "execution_count": null,
   "id": "d7e566f0",
   "metadata": {},
   "outputs": [
    {
     "name": "stderr",
     "output_type": "stream",
     "text": [
      "ERROR: Could not find a version that satisfies the requirement sqlachemy (from versions: none)\n",
      "ERROR: No matching distribution found for sqlachemy\n"
     ]
    },
    {
     "name": "stdout",
     "output_type": "stream",
     "text": [
      "Requirement already satisfied: ipython-sql in c:\\users\\islam\\anaconda3\\envs\\my_env\\lib\\site-packages (0.5.0)\n",
      "Requirement already satisfied: prettytable in c:\\users\\islam\\anaconda3\\envs\\my_env\\lib\\site-packages (from ipython-sql) (3.16.0)\n",
      "Requirement already satisfied: ipython in c:\\users\\islam\\anaconda3\\envs\\my_env\\lib\\site-packages (from ipython-sql) (9.4.0)\n",
      "Requirement already satisfied: sqlalchemy>=2.0 in c:\\users\\islam\\anaconda3\\envs\\my_env\\lib\\site-packages (from ipython-sql) (2.0.41)\n",
      "Requirement already satisfied: sqlparse in c:\\users\\islam\\anaconda3\\envs\\my_env\\lib\\site-packages (from ipython-sql) (0.5.3)\n",
      "Requirement already satisfied: six in c:\\users\\islam\\anaconda3\\envs\\my_env\\lib\\site-packages (from ipython-sql) (1.17.0)\n",
      "Requirement already satisfied: ipython-genutils in c:\\users\\islam\\anaconda3\\envs\\my_env\\lib\\site-packages (from ipython-sql) (0.2.0)\n",
      "Requirement already satisfied: greenlet>=1 in c:\\users\\islam\\anaconda3\\envs\\my_env\\lib\\site-packages (from sqlalchemy>=2.0->ipython-sql) (3.2.3)\n",
      "Requirement already satisfied: typing-extensions>=4.6.0 in c:\\users\\islam\\anaconda3\\envs\\my_env\\lib\\site-packages (from sqlalchemy>=2.0->ipython-sql) (4.14.1)\n",
      "Requirement already satisfied: colorama in c:\\users\\islam\\anaconda3\\envs\\my_env\\lib\\site-packages (from ipython->ipython-sql) (0.4.6)\n",
      "Requirement already satisfied: decorator in c:\\users\\islam\\anaconda3\\envs\\my_env\\lib\\site-packages (from ipython->ipython-sql) (5.2.1)\n",
      "Requirement already satisfied: ipython-pygments-lexers in c:\\users\\islam\\anaconda3\\envs\\my_env\\lib\\site-packages (from ipython->ipython-sql) (1.1.1)\n",
      "Requirement already satisfied: jedi>=0.16 in c:\\users\\islam\\anaconda3\\envs\\my_env\\lib\\site-packages (from ipython->ipython-sql) (0.19.2)\n",
      "Requirement already satisfied: matplotlib-inline in c:\\users\\islam\\anaconda3\\envs\\my_env\\lib\\site-packages (from ipython->ipython-sql) (0.1.7)\n",
      "Requirement already satisfied: prompt_toolkit<3.1.0,>=3.0.41 in c:\\users\\islam\\anaconda3\\envs\\my_env\\lib\\site-packages (from ipython->ipython-sql) (3.0.51)\n",
      "Requirement already satisfied: pygments>=2.4.0 in c:\\users\\islam\\anaconda3\\envs\\my_env\\lib\\site-packages (from ipython->ipython-sql) (2.19.2)\n",
      "Requirement already satisfied: stack_data in c:\\users\\islam\\anaconda3\\envs\\my_env\\lib\\site-packages (from ipython->ipython-sql) (0.6.3)\n",
      "Requirement already satisfied: traitlets>=5.13.0 in c:\\users\\islam\\anaconda3\\envs\\my_env\\lib\\site-packages (from ipython->ipython-sql) (5.14.3)\n",
      "Requirement already satisfied: wcwidth in c:\\users\\islam\\anaconda3\\envs\\my_env\\lib\\site-packages (from prompt_toolkit<3.1.0,>=3.0.41->ipython->ipython-sql) (0.2.13)\n",
      "Requirement already satisfied: parso<0.9.0,>=0.8.4 in c:\\users\\islam\\anaconda3\\envs\\my_env\\lib\\site-packages (from jedi>=0.16->ipython->ipython-sql) (0.8.4)\n",
      "Requirement already satisfied: executing>=1.2.0 in c:\\users\\islam\\anaconda3\\envs\\my_env\\lib\\site-packages (from stack_data->ipython->ipython-sql) (2.2.0)\n",
      "Requirement already satisfied: asttokens>=2.1.0 in c:\\users\\islam\\anaconda3\\envs\\my_env\\lib\\site-packages (from stack_data->ipython->ipython-sql) (3.0.0)\n",
      "Requirement already satisfied: pure_eval in c:\\users\\islam\\anaconda3\\envs\\my_env\\lib\\site-packages (from stack_data->ipython->ipython-sql) (0.2.3)\n",
      "Requirement already satisfied: pymysql in c:\\users\\islam\\anaconda3\\envs\\my_env\\lib\\site-packages (1.1.1)\n"
     ]
    }
   ],
   "source": [
    "#install required libraries\n",
    "\n",
    "!pip install sqlachemy \n",
    "!pip install ipython-sql\n",
    "! pip install pymysql"
   ]
  },
  {
   "cell_type": "code",
   "execution_count": 16,
   "id": "0fcdd3d0",
   "metadata": {},
   "outputs": [],
   "source": [
    "import sqlalchemy\n",
    "from sqlalchemy import create_engine\n",
    "import pandas as pd\n",
    "import sqlite3"
   ]
  },
  {
   "cell_type": "code",
   "execution_count": 47,
   "id": "bf0746e4",
   "metadata": {},
   "outputs": [
    {
     "name": "stdout",
     "output_type": "stream",
     "text": [
      "Requirement already satisfied: prettytable in c:\\users\\islam\\anaconda3\\envs\\my_env\\lib\\site-packages (3.16.0)\n",
      "Requirement already satisfied: wcwidth in c:\\users\\islam\\anaconda3\\envs\\my_env\\lib\\site-packages (from prettytable) (0.2.13)\n",
      "Note: you may need to restart the kernel to use updated packages.\n"
     ]
    }
   ],
   "source": [
    "pip install --upgrade prettytable\n"
   ]
  },
  {
   "cell_type": "code",
   "execution_count": 48,
   "id": "237b9efb",
   "metadata": {},
   "outputs": [
    {
     "data": {
      "text/plain": [
       "<sqlite3.Cursor at 0x2aeb8fb6a40>"
      ]
     },
     "execution_count": 48,
     "metadata": {},
     "output_type": "execute_result"
    }
   ],
   "source": [
    "#connect sqlite database(it will be created if it is not existed)\n",
    "%reload_ext sql\n",
    "%config SqlMagic.style = 'ascii'\n",
    "\n",
    "engine = create_engine(\"sqlite:///hr.db\")\n",
    "%config SQL.conn_name = 'engine'\n",
    "\n",
    "conn = sqlite3.connect('hr.db')\n",
    "cursor = conn.cursor()\n",
    "\n",
    "%sql sqlite:///hr.db\n",
    "\n",
    "#create tables\n",
    "cursor.execute('DROP TABLE IF EXISTS hr;')\n",
    "cursor.execute('DROP TABLE IF EXISTS departments;')\n",
    "cursor.execute('DROP TABLE IF EXISTS locations;')\n",
    "cursor.execute('DROP TABLE IF EXISTS education_levels;')\n",
    "cursor.execute('DROP TABLE IF EXISTS job_titles;')\n",
    "cursor.execute('DROP TABLE IF EXISTS managers;')\n",
    "cursor.execute('DROP TABLE IF EXISTS employees;')\n",
    "\n",
    "\n",
    "cursor.execute('''\n",
    "CREATE TABLE hr (\n",
    "    emp_id VARCHAR(10) ,\n",
    "    emp_nm VARCHAR(100),\n",
    "    email VARCHAR(100),\n",
    "    hire_dt DATE,\n",
    "    job_title VARCHAR(100),\n",
    "    salary DECIMAL(10, 2),\n",
    "    department VARCHAR(100),\n",
    "    manager VARCHAR(100),\n",
    "    start_dt DATE,\n",
    "    end_dt DATE,  -- Nullable field\n",
    "    location VARCHAR(100),\n",
    "    address VARCHAR(200),\n",
    "    city VARCHAR(100),\n",
    "    state CHAR(2),\n",
    "    education_level VARCHAR(50)\n",
    ");\n",
    "               ''')\n",
    "\n",
    "\n",
    "\n",
    "cursor.execute('''\n",
    "CREATE TABLE departments (\n",
    "    dept_id SERIAL PRIMARY KEY,\n",
    "    dept_name VARCHAR(100) UNIQUE\n",
    ");\n",
    "\n",
    "               ''')\n",
    "\n",
    "\n",
    "cursor.execute('''\n",
    "CREATE TABLE locations (\n",
    "    location_id SERIAL PRIMARY KEY,\n",
    "    location_name VARCHAR(100),\n",
    "    address VARCHAR(200),\n",
    "    city VARCHAR(100),\n",
    "    state CHAR(20));\n",
    "               ''')\n",
    "\n",
    "cursor.execute('''\n",
    "CREATE TABLE education_levels (\n",
    "    edu_level_id SERIAL PRIMARY KEY,\n",
    "    edu_level_name VARCHAR(50) UNIQUE\n",
    ");\n",
    "\n",
    "               ''')\n",
    "\n",
    "cursor.execute('''\n",
    "CREATE TABLE job_titles (\n",
    "    job_id SERIAL PRIMARY KEY,\n",
    "    job_title VARCHAR(100) UNIQUE\n",
    ");\n",
    "\n",
    "               ''')\n",
    "\n",
    "cursor.execute('''\n",
    "CREATE TABLE managers (\n",
    "    manager_id SERIAL PRIMARY KEY,\n",
    "    manager_name VARCHAR(100)\n",
    ");\n",
    "\n",
    "               ''')\n",
    "\n",
    "cursor.execute('''\n",
    "CREATE TABLE employees (\n",
    "    emp_id VARCHAR(10) PRIMARY KEY,\n",
    "    emp_nm VARCHAR(100),\n",
    "    email VARCHAR(100),\n",
    "    hire_dt DATE,\n",
    "    salary DECIMAL(10, 2),\n",
    "    start_dt DATE,\n",
    "    end_dt DATE,\n",
    "    dept_id INT REFERENCES departments(dept_id),\n",
    "    job_id INT REFERENCES job_titles(job_id),\n",
    "    manager_id INT REFERENCES managers(manager_id),\n",
    "    location_id INT REFERENCES locations(location_id),\n",
    "    edu_level_id INT REFERENCES education_levels(edu_level_id)\n",
    ");\n",
    "\n",
    "               ''')\n"
   ]
  },
  {
   "cell_type": "code",
   "execution_count": 49,
   "id": "7ad74d58",
   "metadata": {},
   "outputs": [
    {
     "name": "stdout",
     "output_type": "stream",
     "text": [
      "Data Loaded Successfully to table hr\n"
     ]
    }
   ],
   "source": [
    "#Function to load external data into hr table\n",
    "def load_data_to_table(path , table_name):\n",
    "    df = pd.read_excel(path)\n",
    "    \n",
    "    # Rename columns to match SQLite schema\n",
    "    df.columns = [col.strip().lower().replace(\" \", \"_\") for col in df.columns]\n",
    "\n",
    "    #then load records\n",
    "    df.to_sql(table_name , conn , if_exists='append' , index=False)\n",
    "    print(f'Data Loaded Successfully to table {table_name}')\n",
    "\n",
    "load_data_to_table(r'E:\\hr\\hr-dataset.xlsx' , 'hr')"
   ]
  },
  {
   "cell_type": "code",
   "execution_count": null,
   "id": "3616b9b1",
   "metadata": {},
   "outputs": [],
   "source": [
    "cursor.execute('''\n",
    "INSERT INTO departments (dept_name)\n",
    "SELECT DISTINCT department\n",
    "FROM hr\n",
    "WHERE department IS NOT NULL;\n",
    "\n",
    "               ''')\n",
    "\n",
    "cursor.execute('''\n",
    "INSERT INTO locations (location_name, address, city, state)\n",
    "SELECT DISTINCT location, address, city, state\n",
    "FROM hr\n",
    "WHERE location IS NOT NULL;\n",
    "\n",
    "               ''')\n",
    "\n",
    "cursor.execute('''\n",
    "INSERT INTO job_titles (job_title)\n",
    "SELECT DISTINCT job_title\n",
    "FROM hr\n",
    "WHERE job_title IS NOT NULL;\n",
    "\n",
    "               ''')\n",
    "\n",
    "cursor.execute('''\n",
    "INSERT INTO managers (manager_name)\n",
    "SELECT DISTINCT manager\n",
    "FROM hr\n",
    "WHERE manager IS NOT NULL;\n",
    "\n",
    "               ''')\n",
    "\n",
    "cursor.execute('''\n",
    "INSERT INTO education_levels (edu_level_name)\n",
    "SELECT DISTINCT education_level\n",
    "FROM hr\n",
    "WHERE education_level IS NOT NULL;\n",
    "\n",
    "               ''')\n",
    "\n",
    "cursor.execute('''\n",
    "INSERT OR IGNORE INTO employees (\n",
    "    emp_id, emp_nm, email, hire_dt, salary, start_dt, end_dt,\n",
    "    dept_id, job_id, manager_id, location_id, edu_level_id\n",
    ")\n",
    "SELECT \n",
    "    h.emp_id,\n",
    "    h.emp_nm,\n",
    "    h.email,\n",
    "    h.hire_dt,\n",
    "    h.salary,\n",
    "    h.start_dt,\n",
    "    h.end_dt,\n",
    "    d.dept_id,\n",
    "    j.job_id,\n",
    "    m.manager_id,\n",
    "    l.location_id,\n",
    "    e.edu_level_id\n",
    "FROM hr h\n",
    "JOIN departments d ON h.department = d.dept_name\n",
    "JOIN job_titles j ON h.job_title = j.job_title\n",
    "JOIN managers m ON h.manager = m.manager_name\n",
    "JOIN locations l ON h.location = l.location_name AND h.address = l.address AND h.city = l.city AND h.state = l.state\n",
    "JOIN education_levels e ON h.education_level = e.edu_level_name;\n",
    "\n",
    "\n",
    "               ''')"
   ]
  }
 ],
 "metadata": {
  "kernelspec": {
   "display_name": "my_env",
   "language": "python",
   "name": "python3"
  },
  "language_info": {
   "codemirror_mode": {
    "name": "ipython",
    "version": 3
   },
   "file_extension": ".py",
   "mimetype": "text/x-python",
   "name": "python",
   "nbconvert_exporter": "python",
   "pygments_lexer": "ipython3",
   "version": "3.13.5"
  }
 },
 "nbformat": 4,
 "nbformat_minor": 5
}
